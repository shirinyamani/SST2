{
 "cells": [
  {
   "cell_type": "code",
   "execution_count": 45,
   "id": "751835a3-2002-462a-b812-f34022afdee4",
   "metadata": {},
   "outputs": [],
   "source": [
    "import datasets\n",
    "from InstructorEmbedding import INSTRUCTOR"
   ]
  },
  {
   "cell_type": "markdown",
   "id": "ecfd9c99-ba59-46d8-964e-2d44f06f41f5",
   "metadata": {},
   "source": [
    "## EDA of the dataset"
   ]
  },
  {
   "cell_type": "code",
   "execution_count": 23,
   "id": "30929b75-bcdc-4e70-a3db-e6c10f3925af",
   "metadata": {},
   "outputs": [],
   "source": [
    "sst2 = datasets.load_dataset('sst2')"
   ]
  },
  {
   "cell_type": "code",
   "execution_count": 24,
   "id": "53d96240-37e6-4e3e-92b0-de4b2fa39480",
   "metadata": {},
   "outputs": [
    {
     "data": {
      "text/plain": [
       "{'train': ['idx', 'sentence', 'label'],\n",
       " 'validation': ['idx', 'sentence', 'label'],\n",
       " 'test': ['idx', 'sentence', 'label']}"
      ]
     },
     "execution_count": 24,
     "metadata": {},
     "output_type": "execute_result"
    }
   ],
   "source": [
    "#dir(sst2)\n",
    "sst2.column_names"
   ]
  },
  {
   "cell_type": "code",
   "execution_count": 25,
   "id": "540b8eaa-28ed-4c85-8c98-8fd94f9dc674",
   "metadata": {},
   "outputs": [
    {
     "data": {
      "text/plain": [
       "{'train': 67349, 'validation': 872, 'test': 1821}"
      ]
     },
     "execution_count": 25,
     "metadata": {},
     "output_type": "execute_result"
    }
   ],
   "source": [
    "sst2.num_rows"
   ]
  },
  {
   "cell_type": "code",
   "execution_count": 36,
   "id": "7b9d47eb-c810-423c-a12a-090d3858fb14",
   "metadata": {},
   "outputs": [
    {
     "data": {
      "text/plain": [
       "'hide new secretions from the parental units '"
      ]
     },
     "execution_count": 36,
     "metadata": {},
     "output_type": "execute_result"
    }
   ],
   "source": [
    "#sample of a review\n",
    "sst2['train']['sentence'][0]"
   ]
  },
  {
   "cell_type": "code",
   "execution_count": 37,
   "id": "6e08b9a3-4742-4aa5-b2ff-e10ca7553c0f",
   "metadata": {},
   "outputs": [
    {
     "data": {
      "text/plain": [
       "'contains no wit , only labored gags '"
      ]
     },
     "execution_count": 37,
     "metadata": {},
     "output_type": "execute_result"
    }
   ],
   "source": [
    "sst2['train']['sentence'][1]"
   ]
  },
  {
   "cell_type": "code",
   "execution_count": 38,
   "id": "da9eab18-09eb-4f34-960f-8da15472c064",
   "metadata": {},
   "outputs": [
    {
     "data": {
      "text/plain": [
       "'uneasy mishmash of styles and genres .'"
      ]
     },
     "execution_count": 38,
     "metadata": {},
     "output_type": "execute_result"
    }
   ],
   "source": [
    "sst2['test']['sentence'][0]"
   ]
  },
  {
   "cell_type": "markdown",
   "id": "5be7f73b-c3e6-474d-bb82-f52244fd3501",
   "metadata": {},
   "source": [
    "## INSTRUCTOR 👨‍🏫👩‍🏫"
   ]
  },
  {
   "cell_type": "code",
   "execution_count": 47,
   "id": "f8733338-6e89-4e25-bd1a-70842cb6063d",
   "metadata": {
    "scrolled": true
   },
   "outputs": [],
   "source": [
    "#dir(INSTRUCTOR)\n"
   ]
  },
  {
   "cell_type": "code",
   "execution_count": null,
   "id": "5222b5fc-46ff-4f1a-9f83-74ec0b5f3ad4",
   "metadata": {},
   "outputs": [],
   "source": []
  }
 ],
 "metadata": {
  "kernelspec": {
   "display_name": "Python 3 (ipykernel)",
   "language": "python",
   "name": "python3"
  },
  "language_info": {
   "codemirror_mode": {
    "name": "ipython",
    "version": 3
   },
   "file_extension": ".py",
   "mimetype": "text/x-python",
   "name": "python",
   "nbconvert_exporter": "python",
   "pygments_lexer": "ipython3",
   "version": "3.10.12"
  }
 },
 "nbformat": 4,
 "nbformat_minor": 5
}
